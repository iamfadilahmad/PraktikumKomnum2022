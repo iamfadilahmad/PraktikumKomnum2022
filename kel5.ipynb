{
  "nbformat": 4,
  "nbformat_minor": 0,
  "metadata": {
    "colab": {
      "provenance": [],
      "authorship_tag": "ABX9TyOSdp5ag0sA5UclMvX0w9vB",
      "include_colab_link": true
    },
    "kernelspec": {
      "name": "python3",
      "display_name": "Python 3"
    },
    "language_info": {
      "name": "python"
    }
  },
  "cells": [
    {
      "cell_type": "markdown",
      "metadata": {
        "id": "view-in-github",
        "colab_type": "text"
      },
      "source": [
        "<a href=\"https://colab.research.google.com/github/iamfadilahmad/PraktikumKomnum2022/blob/main/kel5.ipynb\" target=\"_parent\"><img src=\"https://colab.research.google.com/assets/colab-badge.svg\" alt=\"Open In Colab\"/></a>"
      ]
    },
    {
      "cell_type": "code",
      "execution_count": null,
      "metadata": {
        "colab": {
          "base_uri": "https://localhost:8080/"
        },
        "id": "Nj018Ntisg9Z",
        "outputId": "880d920d-772c-41d9-d60b-4d14bef91686"
      },
      "outputs": [
        {
          "output_type": "stream",
          "name": "stdout",
          "text": [
            "The value of root is :  0.3359\n",
            "The number of iteration is : 9\n"
          ]
        }
      ],
      "source": [
        "from pylab import *\n",
        "\n",
        "def func(x):\n",
        "   return x*x*x*x*x - 3*x + 1\n",
        "\n",
        "def bisection(a,b):\n",
        "    ## check batas atas dan bawah\n",
        "    ## jika nilai 0 atau positif artinya salah satu dari a atau b ada yang kurang tepat\n",
        "    if (func(a) * func(b) >= 0):\n",
        "      if a == b:\n",
        "        print(\"Value tidak boleh sama\")\n",
        "      elif a == 0:\n",
        "        print(\"Value A tidak boleh 0\")\n",
        "      elif b == 0:\n",
        "        print(\"Value B tidak boleh 0\")\n",
        "      elif a > 0 and b > 0:\n",
        "        print(\"Salah satu value harus negatif\")\n",
        "      elif a < 0 and b < 0:\n",
        "        print(\"Salah satu value harus positif\")\n",
        "      return\n",
        "\n",
        "    f=1  \n",
        "    c = a\n",
        "\n",
        "    ## fungsi iterasi\n",
        "\n",
        "    ## Akurasi hingga 2 digit dibelakang koma\n",
        "    while ((b-a) >= 0.01):\n",
        "        f=f+1\n",
        "        # if f == 3:\n",
        "        #   break\n",
        "\n",
        "        c = (a+b)/2\n",
        "        \n",
        "  \n",
        "        if (func(c) == 0.0):\n",
        "            break\n",
        "        \n",
        "        A = func(a)\n",
        "        B = func(b)\n",
        "\n",
        "        # print(\"%.4f\"%A,\" , \",\"%.4f\\n\"%B)\n",
        "   \n",
        "        if (func(c)*func(a) < 0):\n",
        "            b = c\n",
        "        else:\n",
        "            a = c\n",
        "             \n",
        "    print(\"The value of root is : \",\"%.4f\"%c)\n",
        "    print(\"The number of iteration is :\",\"%d\"%f)\n",
        "\n",
        "a = -1\n",
        "b = 1\n",
        "\n",
        "\n",
        "bisection(a,b)"
      ]
    },
    {
      "cell_type": "code",
      "source": [
        "x = linspace(-3,3,10)\n",
        "plot(x,func(x))\n",
        "xlabel('x values')\n",
        "ylabel('y values')\n",
        "title('Bisection graph')\n",
        "grid(True)\n",
        "show()"
      ],
      "metadata": {
        "colab": {
          "base_uri": "https://localhost:8080/",
          "height": 295
        },
        "id": "_synvQEmv3OX",
        "outputId": "5aa480c9-ae77-463d-e961-c718fb7eb3d4"
      },
      "execution_count": null,
      "outputs": [
        {
          "output_type": "display_data",
          "data": {
            "text/plain": [
              "<Figure size 432x288 with 1 Axes>"
            ],
            "image/png": "[encoded data removed]"
          },
          "metadata": {
            "needs_background": "light"
          }
        }
      ]
    },
    {
      "cell_type": "code",
      "source": [],
      "metadata": {
        "id": "ysF9Opxb8o8c"
      },
      "execution_count": null,
      "outputs": []
    }
  ]
}